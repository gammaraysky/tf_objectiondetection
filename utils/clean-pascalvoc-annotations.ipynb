{
 "cells": [
  {
   "cell_type": "markdown",
   "metadata": {},
   "source": [
    "# Pascal VOC XML Annotation Cleanup"
   ]
  },
  {
   "cell_type": "markdown",
   "metadata": {},
   "source": [
    "For downloaded datasets with problematic filenames containing illegal characters for Windows, XML annotations containing erroneous file paths,\n",
    "use external bulk rename utilities first to resolve. Then run through this script to clean up XML files such that folder, filename, path are as follows:\n",
    "\n",
    "        <annotation>\n",
    "            <folder>train</folder>\n",
    "            <filename>_1030395.JPG.jpg</filename>\n",
    "            <path>_1030395.JPG.jpg</path>\n",
    "\n",
    "This is to ensure TFRecord generation doesn't throw any errors."
   ]
  },
  {
   "cell_type": "code",
   "execution_count": 39,
   "metadata": {},
   "outputs": [],
   "source": [
    "import xml.etree.ElementTree as ET\n",
    "\n",
    "def clean_annotation_xml(xmlpath, updatedfilename, folderlabel):\n",
    "\n",
    "    tree = ET.parse(xmlpath)\n",
    "\n",
    "    root = tree.getroot()\n",
    "    \n",
    "    for child in root:\n",
    "        if child.tag == 'folder':\n",
    "            child.text = folderlabel\n",
    "        if child.tag == 'filename':\n",
    "            child.text = updatedfilename\n",
    "        if child.tag == 'path':\n",
    "            child.text = updatedfilename\n",
    "                \n",
    "    tree.write(xmlpath)\n",
    "\n",
    "# retrieve_annotation_xml(r'D:\\code\\_projects\\_practice\\TFODCourse-main\\Tensorflow\\workspace\\PlantDoc-Object-Detection-Dataset-master\\TRAIN\\_1030395.JPG.xml', '_1030395.JPG.jpg')"
   ]
  },
  {
   "cell_type": "code",
   "execution_count": 38,
   "metadata": {},
   "outputs": [
    {
     "name": "stdout",
     "output_type": "stream",
     "text": [
      "239 237\n"
     ]
    }
   ],
   "source": [
    "import os\n",
    "\n",
    "folder = r\"D:\\code\\_projects\\_practice\\TFODCourse-main\\Tensorflow\\workspace\\PlantDoc-Object-Detection-Dataset-master\\TEST\"\n",
    "\n",
    "filenames = os.listdir(folder)\n",
    "\n",
    "labels = [f for f in filenames if f[-4:]=='.xml']\n",
    "images = [f for f in filenames if f[-4:]=='.jpg']\n",
    "\n",
    "images = sorted(images)\n",
    "labels = sorted(labels)\n",
    "\n",
    "print(len(images), len(labels))"
   ]
  },
  {
   "cell_type": "code",
   "execution_count": 40,
   "metadata": {},
   "outputs": [],
   "source": [
    "# print(sorted(labels))\n",
    "\n",
    "for fn_img, fn_lbl in zip(images, labels):\n",
    "    \n",
    "    # if filename of image and filename of label matches, \n",
    "    if fn_img[:-4] == fn_lbl[:-4]:\n",
    "        clean_annotation_xml(os.path.join(folder, fn_lbl), fn_img, 'test')\n",
    "    "
   ]
  },
  {
   "cell_type": "code",
   "execution_count": null,
   "metadata": {},
   "outputs": [],
   "source": []
  }
 ],
 "metadata": {
  "kernelspec": {
   "display_name": "Python 3.9.7 ('python')",
   "language": "python",
   "name": "python3"
  },
  "language_info": {
   "codemirror_mode": {
    "name": "ipython",
    "version": 3
   },
   "file_extension": ".py",
   "mimetype": "text/x-python",
   "name": "python",
   "nbconvert_exporter": "python",
   "pygments_lexer": "ipython3",
   "version": "3.9.7"
  },
  "orig_nbformat": 4,
  "vscode": {
   "interpreter": {
    "hash": "481cec52f7d095282728c60bb70d451310b560bc752e0d5557e6790a59f74331"
   }
  }
 },
 "nbformat": 4,
 "nbformat_minor": 2
}
